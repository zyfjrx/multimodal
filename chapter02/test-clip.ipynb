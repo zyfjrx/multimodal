{
 "cells": [
  {
   "cell_type": "code",
   "id": "initial_id",
   "metadata": {
    "collapsed": true,
    "ExecuteTime": {
     "end_time": "2025-10-16T07:30:01.589949Z",
     "start_time": "2025-10-16T07:30:01.011874Z"
    }
   },
   "source": [
    "from PIL import Image\n",
    "import requests\n",
    "from transformers import ChineseCLIPProcessor, ChineseCLIPModel\n",
    "\n",
    "model = ChineseCLIPModel.from_pretrained(\"/Users/zhangyf/llm/chinese-clip-vit-base-patch16\")\n",
    "processor = ChineseCLIPProcessor.from_pretrained(\"/Users/zhangyf/llm/chinese-clip-vit-base-patch16\")\n",
    "\n",
    "url = \"https://clip-cn-beijing.oss-cn-beijing.aliyuncs.com/pokemon.jpeg\"\n",
    "# image = Image.open(requests.get(url, stream=True).raw)\n",
    "image = Image.open(\"1.jpg\")\n",
    "# Squirtle, Bulbasaur, Charmander, Pikachu in English\n",
    "texts = [\"两只老虎在雪地里\", \"两只狗在雪地里\", \"小火龙\", \"一只皮丘\"]\n",
    "\n",
    "# 计算图像的特征\n",
    "inputs = processor(images=image, return_tensors=\"pt\")\n",
    "image_features = model.get_image_features(**inputs) # 使用clip模型中的图像编码器抽取特征\n",
    "image_features = image_features / image_features.norm(p=2, dim=-1, keepdim=True)  # normalize\n",
    "\n",
    "# 计算文本特征\n",
    "inputs = processor(text=texts, padding=True, return_tensors=\"pt\")\n",
    "text_features = model.get_text_features(**inputs) # 使用clip模型中的文本编码器抽取特征\n",
    "text_features = text_features / text_features.norm(p=2, dim=-1, keepdim=True)  # normalize\n",
    "\n",
    "# 计算相似度分数\n",
    "inputs = processor(text=texts, images=image, return_tensors=\"pt\", padding=True)\n",
    "outputs = model(**inputs)\n",
    "logits_per_image = outputs.logits_per_image  # this is the image-text similarity score\n",
    "probs = logits_per_image.softmax(dim=1)  # probs: [[1.2686e-03, 5.4499e-02, 6.7968e-04, 9.4355e-01]]\n"
   ],
   "outputs": [],
   "execution_count": 20
  },
  {
   "metadata": {
    "ExecuteTime": {
     "end_time": "2025-10-16T07:30:02.982937Z",
     "start_time": "2025-10-16T07:30:02.961Z"
    }
   },
   "cell_type": "code",
   "source": [
    "import torch\n",
    "_,index = torch.max(probs, dim=1)\n",
    "print(texts[index.item()])"
   ],
   "id": "e6f57c8678f85453",
   "outputs": [
    {
     "name": "stdout",
     "output_type": "stream",
     "text": [
      "两只狗在雪地里\n"
     ]
    }
   ],
   "execution_count": 21
  }
 ],
 "metadata": {
  "kernelspec": {
   "display_name": "Python 3",
   "language": "python",
   "name": "python3"
  },
  "language_info": {
   "codemirror_mode": {
    "name": "ipython",
    "version": 2
   },
   "file_extension": ".py",
   "mimetype": "text/x-python",
   "name": "python",
   "nbconvert_exporter": "python",
   "pygments_lexer": "ipython2",
   "version": "2.7.6"
  }
 },
 "nbformat": 4,
 "nbformat_minor": 5
}
